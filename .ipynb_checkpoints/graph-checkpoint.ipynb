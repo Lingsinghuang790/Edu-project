{
 "cells": [
  {
   "cell_type": "code",
   "execution_count": null,
   "id": "2533b268-e4e7-4450-8a03-28fa325f10dc",
   "metadata": {},
   "outputs": [],
   "source": [
    "import pandas as pd\n",
    "from collections import defaultdict \n",
    "\n",
    "# Load the CSV file to check its content\n",
    "df = pd.read_csv('persona.csv')\n",
    "\n",
    "# Display the first few rows of the dataframe to understand its structure\n",
    "df.head()"
   ]
  },
  {
   "cell_type": "code",
   "execution_count": null,
   "id": "317c6e31-942f-42ea-88e4-a0943d37d258",
   "metadata": {},
   "outputs": [],
   "source": [
    "# 處理標籤欄位，確保每個關鍵字都被正確的分割為獨立的節點\n",
    "df['標籤'] = df['標籤'].str.replace('、', ',').str.split(',')\n",
    "\n",
    "# 創建關鍵字與ID之間的映射對照表\n",
    "keyword_to_ids = defaultdict(list)\n",
    "id_to_keywords = defaultdict(list)\n",
    "\n",
    "for index, row in df.iterrows():\n",
    "    id = row['id']\n",
    "    id_to_keywords[id].append\n",
    "    keywords = [keyword.strip() for keyword in row['標籤']]\n",
    "    for keyword in keywords:\n",
    "        keyword_to_ids[keyword].append(id)"
   ]
  },
  {
   "cell_type": "code",
   "execution_count": null,
   "id": "263e5bd7-f39b-4722-b055-b1b7219a7753",
   "metadata": {},
   "outputs": [],
   "source": [
    "id_to_keywords\n"
   ]
  },
  {
   "cell_type": "code",
   "execution_count": null,
   "id": "4b8c7ed9-631e-4ce8-9707-caf584e5e0fe",
   "metadata": {},
   "outputs": [],
   "source": [
    "import networkx as nx\n",
    "import matplotlib.pyplot as plt\n",
    "\n",
    "# 使用 networkx\n",
    "G = nx.Graph()\n",
    "\n",
    "# 加點\n",
    "for id in id_to_keywords:\n",
    "    G.add_node(id, type='id')\n",
    "for keyword in keyword_to_ids:\n",
    "    G.add_node(keyword, type='keyword')\n",
    "\n",
    "# 加邊\n",
    "for keyword, ids in keyword_to_ids.items():\n",
    "    for id in ids:\n",
    "        G.add_edge(id, keyword)\n",
    "\n",
    "# 畫圖\n",
    "plt.figure(figsize=(20, 20))\n",
    "pos = nx.spring_layout(G, k=1, iterations=40)\n",
    "nx.draw_networkx_nodes(G, pos, nodelist=id_to_keywords.keys(), node_color='lightblue', label='id')\n",
    "nx.draw_networkx_nodes(G, pos, nodelist=keyword_to_ids.keys(), node_color='lightgreen', label='keyword')\n",
    "nx.draw_networkx_edges(G, pos, width=2.0, alpha=0.5)\n",
    "nx.draw_networkx_labels(G, pos, font_size=16, font_family='SimSun')\n",
    "\n",
    "plt.axis('off')\n",
    "plt.legend(scatterpoints=1)\n",
    "plt.show()\n"
   ]
  },
  {
   "cell_type": "code",
   "execution_count": null,
   "id": "2b0182eb-2d7b-40b7-9de3-b994b2c855ac",
   "metadata": {},
   "outputs": [],
   "source": [
    "import networkx as nx\n",
    "import matplotlib.pyplot as plt\n",
    "from community import community_louvain\n",
    "\n",
    "partition = community_louvain.best_partition(G)\n",
    "\n",
    "community_colors = {node: partition[node] for node in G.nodes()}\n",
    "values = [community_colors[node] for node in G.nodes()]\n",
    "\n",
    "node_sizes = [100 * G.degree(node) for node in G.nodes()]\n",
    "\n",
    "pos = nx.spring_layout(G, k=0.15, iterations=40) \n",
    "\n",
    "plt.figure(figsize=(30, 30))\n",
    "nx.draw_networkx_edges(G, pos, alpha=0.5)\n",
    "nx.draw_networkx_nodes(G, pos, node_color=values, node_size=node_sizes, cmap=plt.cm.jet)\n",
    "nx.draw_networkx_labels(G, pos, font_size=20, font_family='SimSun')\n",
    "\n",
    "plt.axis('off')\n",
    "plt.show()"
   ]
  }
 ],
 "metadata": {
  "kernelspec": {
   "display_name": "Python 3 (ipykernel)",
   "language": "python",
   "name": "python3"
  },
  "language_info": {
   "codemirror_mode": {
    "name": "ipython",
    "version": 3
   },
   "file_extension": ".py",
   "mimetype": "text/x-python",
   "name": "python",
   "nbconvert_exporter": "python",
   "pygments_lexer": "ipython3",
   "version": "3.11.7"
  }
 },
 "nbformat": 4,
 "nbformat_minor": 5
}
